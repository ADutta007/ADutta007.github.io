{
  "nbformat": 4,
  "nbformat_minor": 0,
  "metadata": {
    "colab": {
      "provenance": [],
      "include_colab_link": true
    },
    "kernelspec": {
      "name": "python3",
      "display_name": "Python 3"
    },
    "language_info": {
      "name": "python"
    }
  },
  "cells": [
    {
      "cell_type": "markdown",
      "metadata": {
        "id": "view-in-github",
        "colab_type": "text"
      },
      "source": [
        "<a href=\"https://colab.research.google.com/github/ADutta007/ADutta007.github.io/blob/main/machine_learning.ipynb\" target=\"_parent\"><img src=\"https://colab.research.google.com/assets/colab-badge.svg\" alt=\"Open In Colab\"/></a>"
      ]
    },
    {
      "cell_type": "markdown",
      "source": [
        "#Machine Learning WorkFlow\n"
      ],
      "metadata": {
        "id": "ir3lR1gc54UN"
      }
    },
    {
      "cell_type": "markdown",
      "source": [
        "Sure, here are some notes on the code you've provided:\n",
        "\n",
        "```python\n",
        "import pandas as pd\n",
        "```\n",
        "This line imports the **pandas** library, which is a powerful data manipulation and analysis tool. It's particularly useful for working with structured data, such as tables of data.\n",
        "\n",
        "```python\n",
        "import numpy as np\n",
        "```\n",
        "This line imports the **numpy** library, which is a fundamental package for scientific computing in Python. It provides support for arrays, matrices, and many mathematical functions.\n",
        "\n",
        "```python\n",
        "import matplotlib.pyplot as plt\n",
        "```\n",
        "This line imports the **matplotlib.pyplot** module, which is a collection of functions that provide a MATLAB-like interface for making plots and charts.\n",
        "\n",
        "```python\n",
        "from sklearn import ensemble\n",
        "```\n",
        "This line imports the **ensemble** module from the **scikit-learn** library. Ensemble methods are meta-algorithms that combine several machine learning techniques into one predictive model in order to decrease variance (bagging), bias (boosting), or improve predictions (stacking).\n",
        "\n",
        "```python\n",
        "from sklearn import model_selection\n",
        "```\n",
        "This line imports the **model_selection** module from the **scikit-learn** library. This module includes classes and functions for splitting datasets, generating validation curves, and tuning the hyperparameters of estimators.\n",
        "\n",
        "```python\n",
        "from sklearn.metrics import confusion_matrix\n",
        "```\n",
        "This line imports the **confusion_matrix** function from the **sklearn.metrics** module. A confusion matrix is a table that is often used to describe the performance of a classification model on a set of test data for which the true values are known.\n",
        "\n",
        "```python\n",
        "import gdal\n",
        "```\n",
        "This line imports the **GDAL** library, which stands for Geospatial Data Abstraction Library. It's a translator library for raster and vector geospatial data formats.\n",
        "\n",
        "```python\n",
        "from sklearn.preprocessing import normalize\n",
        "```\n",
        "This line imports the **normalize** function from the **sklearn.preprocessing** module. Normalization is the process of scaling individual samples to have unit norm. This process can be useful if you plan to use a quadratic form such as the dot-product or any other kernel to quantify the similarity of any pair of samples."
      ],
      "metadata": {
        "id": "twlNXMLHF8Dg"
      }
    },
    {
      "cell_type": "code",
      "source": [
        "import pandas as pd\n",
        "import numpy as np\n",
        "import matplotlib.pyplot as plt\n",
        "from sklearn import ensemble\n",
        "from sklearn import model_selection\n",
        "from sklearn.metrics import confusion_matrix\n",
        "from osgeo import gdal\n",
        "from sklearn.preprocessing import normalize"
      ],
      "metadata": {
        "id": "dMaS06KC5bGV"
      },
      "execution_count": null,
      "outputs": []
    },
    {
      "cell_type": "markdown",
      "source": [
        "\n",
        "\n",
        "```python\n",
        "data=pd.read_csv('/content/drive/MyDrive/day1.csv')\n",
        "```\n",
        "This line uses the **pandas** function `read_csv` to read the CSV file located at '/content/drive/MyDrive/day1.csv' and store it in a DataFrame object named `data`. The path to the file suggests that it's located in your Google Drive, and you're likely running this code in a Google Colab notebook.\n",
        "\n",
        "```python\n",
        "data.head()\n",
        "```\n",
        "This line uses the `head` method of the pandas DataFrame object. This method returns the first 5 rows of the DataFrame by default, but you can specify a different number as an argument if you want to see more or fewer rows. This is often used for quickly testing if your dataset has the right type of data in it. Please note that this line of code will not have any visible effect if it's run in a script without being printed or displayed in some other way. In a notebook environment like Jupyter or Google Colab, however, the result will be displayed automatically.\n",
        "\n"
      ],
      "metadata": {
        "id": "GP3zvVZdGB0O"
      }
    },
    {
      "cell_type": "code",
      "source": [
        "from google.colab import drive\n",
        "drive.mount('/content/drive')"
      ],
      "metadata": {
        "colab": {
          "base_uri": "https://localhost:8080/"
        },
        "id": "zVUiNTwwfLK1",
        "outputId": "54f3a86e-396e-4178-906e-80e78961b883"
      },
      "execution_count": null,
      "outputs": [
        {
          "output_type": "stream",
          "name": "stdout",
          "text": [
            "Mounted at /content/drive\n"
          ]
        }
      ]
    },
    {
      "cell_type": "markdown",
      "source": [
        "# New section"
      ],
      "metadata": {
        "id": "ngLbMGchehra"
      }
    },
    {
      "cell_type": "code",
      "source": [
        "data=pd.read_csv('/content/drive/MyDrive/day1.csv')\n",
        "data.head()"
      ],
      "metadata": {
        "id": "LTz42FQG5-it",
        "colab": {
          "base_uri": "https://localhost:8080/",
          "height": 206
        },
        "outputId": "34c31004-619e-47c6-aa1d-009aa6b8212b"
      },
      "execution_count": null,
      "outputs": [
        {
          "output_type": "execute_result",
          "data": {
            "text/plain": [
              "   Unnamed: 0  segment  label              x             y  grn  red  nir  \\\n",
              "0           0        6  other  607992.900195  3.420010e+06   74   66  121   \n",
              "1           1        6  other  607996.816748  3.419979e+06   81   73  116   \n",
              "2           2        6  other  607011.003356  3.420005e+06   71   59  122   \n",
              "3           3        6  wheat  607171.687553  3.419999e+06   73   61  106   \n",
              "4           4        6  wheat  607073.709583  3.419987e+06   58   43  160   \n",
              "\n",
              "   swir  \n",
              "0    73  \n",
              "1    68  \n",
              "2    60  \n",
              "3    60  \n",
              "4    57  "
            ],
            "text/html": [
              "\n",
              "  <div id=\"df-75970933-a90c-442a-9c06-14509f051693\" class=\"colab-df-container\">\n",
              "    <div>\n",
              "<style scoped>\n",
              "    .dataframe tbody tr th:only-of-type {\n",
              "        vertical-align: middle;\n",
              "    }\n",
              "\n",
              "    .dataframe tbody tr th {\n",
              "        vertical-align: top;\n",
              "    }\n",
              "\n",
              "    .dataframe thead th {\n",
              "        text-align: right;\n",
              "    }\n",
              "</style>\n",
              "<table border=\"1\" class=\"dataframe\">\n",
              "  <thead>\n",
              "    <tr style=\"text-align: right;\">\n",
              "      <th></th>\n",
              "      <th>Unnamed: 0</th>\n",
              "      <th>segment</th>\n",
              "      <th>label</th>\n",
              "      <th>x</th>\n",
              "      <th>y</th>\n",
              "      <th>grn</th>\n",
              "      <th>red</th>\n",
              "      <th>nir</th>\n",
              "      <th>swir</th>\n",
              "    </tr>\n",
              "  </thead>\n",
              "  <tbody>\n",
              "    <tr>\n",
              "      <th>0</th>\n",
              "      <td>0</td>\n",
              "      <td>6</td>\n",
              "      <td>other</td>\n",
              "      <td>607992.900195</td>\n",
              "      <td>3.420010e+06</td>\n",
              "      <td>74</td>\n",
              "      <td>66</td>\n",
              "      <td>121</td>\n",
              "      <td>73</td>\n",
              "    </tr>\n",
              "    <tr>\n",
              "      <th>1</th>\n",
              "      <td>1</td>\n",
              "      <td>6</td>\n",
              "      <td>other</td>\n",
              "      <td>607996.816748</td>\n",
              "      <td>3.419979e+06</td>\n",
              "      <td>81</td>\n",
              "      <td>73</td>\n",
              "      <td>116</td>\n",
              "      <td>68</td>\n",
              "    </tr>\n",
              "    <tr>\n",
              "      <th>2</th>\n",
              "      <td>2</td>\n",
              "      <td>6</td>\n",
              "      <td>other</td>\n",
              "      <td>607011.003356</td>\n",
              "      <td>3.420005e+06</td>\n",
              "      <td>71</td>\n",
              "      <td>59</td>\n",
              "      <td>122</td>\n",
              "      <td>60</td>\n",
              "    </tr>\n",
              "    <tr>\n",
              "      <th>3</th>\n",
              "      <td>3</td>\n",
              "      <td>6</td>\n",
              "      <td>wheat</td>\n",
              "      <td>607171.687553</td>\n",
              "      <td>3.419999e+06</td>\n",
              "      <td>73</td>\n",
              "      <td>61</td>\n",
              "      <td>106</td>\n",
              "      <td>60</td>\n",
              "    </tr>\n",
              "    <tr>\n",
              "      <th>4</th>\n",
              "      <td>4</td>\n",
              "      <td>6</td>\n",
              "      <td>wheat</td>\n",
              "      <td>607073.709583</td>\n",
              "      <td>3.419987e+06</td>\n",
              "      <td>58</td>\n",
              "      <td>43</td>\n",
              "      <td>160</td>\n",
              "      <td>57</td>\n",
              "    </tr>\n",
              "  </tbody>\n",
              "</table>\n",
              "</div>\n",
              "    <div class=\"colab-df-buttons\">\n",
              "\n",
              "  <div class=\"colab-df-container\">\n",
              "    <button class=\"colab-df-convert\" onclick=\"convertToInteractive('df-75970933-a90c-442a-9c06-14509f051693')\"\n",
              "            title=\"Convert this dataframe to an interactive table.\"\n",
              "            style=\"display:none;\">\n",
              "\n",
              "  <svg xmlns=\"http://www.w3.org/2000/svg\" height=\"24px\" viewBox=\"0 -960 960 960\">\n",
              "    <path d=\"M120-120v-720h720v720H120Zm60-500h600v-160H180v160Zm220 220h160v-160H400v160Zm0 220h160v-160H400v160ZM180-400h160v-160H180v160Zm440 0h160v-160H620v160ZM180-180h160v-160H180v160Zm440 0h160v-160H620v160Z\"/>\n",
              "  </svg>\n",
              "    </button>\n",
              "\n",
              "  <style>\n",
              "    .colab-df-container {\n",
              "      display:flex;\n",
              "      gap: 12px;\n",
              "    }\n",
              "\n",
              "    .colab-df-convert {\n",
              "      background-color: #E8F0FE;\n",
              "      border: none;\n",
              "      border-radius: 50%;\n",
              "      cursor: pointer;\n",
              "      display: none;\n",
              "      fill: #1967D2;\n",
              "      height: 32px;\n",
              "      padding: 0 0 0 0;\n",
              "      width: 32px;\n",
              "    }\n",
              "\n",
              "    .colab-df-convert:hover {\n",
              "      background-color: #E2EBFA;\n",
              "      box-shadow: 0px 1px 2px rgba(60, 64, 67, 0.3), 0px 1px 3px 1px rgba(60, 64, 67, 0.15);\n",
              "      fill: #174EA6;\n",
              "    }\n",
              "\n",
              "    .colab-df-buttons div {\n",
              "      margin-bottom: 4px;\n",
              "    }\n",
              "\n",
              "    [theme=dark] .colab-df-convert {\n",
              "      background-color: #3B4455;\n",
              "      fill: #D2E3FC;\n",
              "    }\n",
              "\n",
              "    [theme=dark] .colab-df-convert:hover {\n",
              "      background-color: #434B5C;\n",
              "      box-shadow: 0px 1px 3px 1px rgba(0, 0, 0, 0.15);\n",
              "      filter: drop-shadow(0px 1px 2px rgba(0, 0, 0, 0.3));\n",
              "      fill: #FFFFFF;\n",
              "    }\n",
              "  </style>\n",
              "\n",
              "    <script>\n",
              "      const buttonEl =\n",
              "        document.querySelector('#df-75970933-a90c-442a-9c06-14509f051693 button.colab-df-convert');\n",
              "      buttonEl.style.display =\n",
              "        google.colab.kernel.accessAllowed ? 'block' : 'none';\n",
              "\n",
              "      async function convertToInteractive(key) {\n",
              "        const element = document.querySelector('#df-75970933-a90c-442a-9c06-14509f051693');\n",
              "        const dataTable =\n",
              "          await google.colab.kernel.invokeFunction('convertToInteractive',\n",
              "                                                    [key], {});\n",
              "        if (!dataTable) return;\n",
              "\n",
              "        const docLinkHtml = 'Like what you see? Visit the ' +\n",
              "          '<a target=\"_blank\" href=https://colab.research.google.com/notebooks/data_table.ipynb>data table notebook</a>'\n",
              "          + ' to learn more about interactive tables.';\n",
              "        element.innerHTML = '';\n",
              "        dataTable['output_type'] = 'display_data';\n",
              "        await google.colab.output.renderOutput(dataTable, element);\n",
              "        const docLink = document.createElement('div');\n",
              "        docLink.innerHTML = docLinkHtml;\n",
              "        element.appendChild(docLink);\n",
              "      }\n",
              "    </script>\n",
              "  </div>\n",
              "\n",
              "\n",
              "<div id=\"df-6e235e61-a0a9-45e9-b2cc-ade037f74769\">\n",
              "  <button class=\"colab-df-quickchart\" onclick=\"quickchart('df-6e235e61-a0a9-45e9-b2cc-ade037f74769')\"\n",
              "            title=\"Suggest charts\"\n",
              "            style=\"display:none;\">\n",
              "\n",
              "<svg xmlns=\"http://www.w3.org/2000/svg\" height=\"24px\"viewBox=\"0 0 24 24\"\n",
              "     width=\"24px\">\n",
              "    <g>\n",
              "        <path d=\"M19 3H5c-1.1 0-2 .9-2 2v14c0 1.1.9 2 2 2h14c1.1 0 2-.9 2-2V5c0-1.1-.9-2-2-2zM9 17H7v-7h2v7zm4 0h-2V7h2v10zm4 0h-2v-4h2v4z\"/>\n",
              "    </g>\n",
              "</svg>\n",
              "  </button>\n",
              "\n",
              "<style>\n",
              "  .colab-df-quickchart {\n",
              "      --bg-color: #E8F0FE;\n",
              "      --fill-color: #1967D2;\n",
              "      --hover-bg-color: #E2EBFA;\n",
              "      --hover-fill-color: #174EA6;\n",
              "      --disabled-fill-color: #AAA;\n",
              "      --disabled-bg-color: #DDD;\n",
              "  }\n",
              "\n",
              "  [theme=dark] .colab-df-quickchart {\n",
              "      --bg-color: #3B4455;\n",
              "      --fill-color: #D2E3FC;\n",
              "      --hover-bg-color: #434B5C;\n",
              "      --hover-fill-color: #FFFFFF;\n",
              "      --disabled-bg-color: #3B4455;\n",
              "      --disabled-fill-color: #666;\n",
              "  }\n",
              "\n",
              "  .colab-df-quickchart {\n",
              "    background-color: var(--bg-color);\n",
              "    border: none;\n",
              "    border-radius: 50%;\n",
              "    cursor: pointer;\n",
              "    display: none;\n",
              "    fill: var(--fill-color);\n",
              "    height: 32px;\n",
              "    padding: 0;\n",
              "    width: 32px;\n",
              "  }\n",
              "\n",
              "  .colab-df-quickchart:hover {\n",
              "    background-color: var(--hover-bg-color);\n",
              "    box-shadow: 0 1px 2px rgba(60, 64, 67, 0.3), 0 1px 3px 1px rgba(60, 64, 67, 0.15);\n",
              "    fill: var(--button-hover-fill-color);\n",
              "  }\n",
              "\n",
              "  .colab-df-quickchart-complete:disabled,\n",
              "  .colab-df-quickchart-complete:disabled:hover {\n",
              "    background-color: var(--disabled-bg-color);\n",
              "    fill: var(--disabled-fill-color);\n",
              "    box-shadow: none;\n",
              "  }\n",
              "\n",
              "  .colab-df-spinner {\n",
              "    border: 2px solid var(--fill-color);\n",
              "    border-color: transparent;\n",
              "    border-bottom-color: var(--fill-color);\n",
              "    animation:\n",
              "      spin 1s steps(1) infinite;\n",
              "  }\n",
              "\n",
              "  @keyframes spin {\n",
              "    0% {\n",
              "      border-color: transparent;\n",
              "      border-bottom-color: var(--fill-color);\n",
              "      border-left-color: var(--fill-color);\n",
              "    }\n",
              "    20% {\n",
              "      border-color: transparent;\n",
              "      border-left-color: var(--fill-color);\n",
              "      border-top-color: var(--fill-color);\n",
              "    }\n",
              "    30% {\n",
              "      border-color: transparent;\n",
              "      border-left-color: var(--fill-color);\n",
              "      border-top-color: var(--fill-color);\n",
              "      border-right-color: var(--fill-color);\n",
              "    }\n",
              "    40% {\n",
              "      border-color: transparent;\n",
              "      border-right-color: var(--fill-color);\n",
              "      border-top-color: var(--fill-color);\n",
              "    }\n",
              "    60% {\n",
              "      border-color: transparent;\n",
              "      border-right-color: var(--fill-color);\n",
              "    }\n",
              "    80% {\n",
              "      border-color: transparent;\n",
              "      border-right-color: var(--fill-color);\n",
              "      border-bottom-color: var(--fill-color);\n",
              "    }\n",
              "    90% {\n",
              "      border-color: transparent;\n",
              "      border-bottom-color: var(--fill-color);\n",
              "    }\n",
              "  }\n",
              "</style>\n",
              "\n",
              "  <script>\n",
              "    async function quickchart(key) {\n",
              "      const quickchartButtonEl =\n",
              "        document.querySelector('#' + key + ' button');\n",
              "      quickchartButtonEl.disabled = true;  // To prevent multiple clicks.\n",
              "      quickchartButtonEl.classList.add('colab-df-spinner');\n",
              "      try {\n",
              "        const charts = await google.colab.kernel.invokeFunction(\n",
              "            'suggestCharts', [key], {});\n",
              "      } catch (error) {\n",
              "        console.error('Error during call to suggestCharts:', error);\n",
              "      }\n",
              "      quickchartButtonEl.classList.remove('colab-df-spinner');\n",
              "      quickchartButtonEl.classList.add('colab-df-quickchart-complete');\n",
              "    }\n",
              "    (() => {\n",
              "      let quickchartButtonEl =\n",
              "        document.querySelector('#df-6e235e61-a0a9-45e9-b2cc-ade037f74769 button');\n",
              "      quickchartButtonEl.style.display =\n",
              "        google.colab.kernel.accessAllowed ? 'block' : 'none';\n",
              "    })();\n",
              "  </script>\n",
              "</div>\n",
              "\n",
              "    </div>\n",
              "  </div>\n"
            ],
            "application/vnd.google.colaboratory.intrinsic+json": {
              "type": "dataframe",
              "variable_name": "data",
              "summary": "{\n  \"name\": \"data\",\n  \"rows\": 31866,\n  \"fields\": [\n    {\n      \"column\": \"Unnamed: 0\",\n      \"properties\": {\n        \"dtype\": \"number\",\n        \"std\": 9199,\n        \"min\": 0,\n        \"max\": 31865,\n        \"num_unique_values\": 31866,\n        \"samples\": [\n          20339,\n          29349,\n          31334\n        ],\n        \"semantic_type\": \"\",\n        \"description\": \"\"\n      }\n    },\n    {\n      \"column\": \"segment\",\n      \"properties\": {\n        \"dtype\": \"number\",\n        \"std\": 14,\n        \"min\": 6,\n        \"max\": 80,\n        \"num_unique_values\": 41,\n        \"samples\": [\n          30,\n          19,\n          14\n        ],\n        \"semantic_type\": \"\",\n        \"description\": \"\"\n      }\n    },\n    {\n      \"column\": \"label\",\n      \"properties\": {\n        \"dtype\": \"category\",\n        \"num_unique_values\": 3,\n        \"samples\": [\n          \"other\",\n          \"wheat\",\n          \"poppy\"\n        ],\n        \"semantic_type\": \"\",\n        \"description\": \"\"\n      }\n    },\n    {\n      \"column\": \"x\",\n      \"properties\": {\n        \"dtype\": \"number\",\n        \"std\": 8981.139250732445,\n        \"min\": 600998.8506752521,\n        \"max\": 639000.8045991445,\n        \"num_unique_values\": 31866,\n        \"samples\": [\n          622761.56770548,\n          621317.3453187231,\n          627710.181414898\n        ],\n        \"semantic_type\": \"\",\n        \"description\": \"\"\n      }\n    },\n    {\n      \"column\": \"y\",\n      \"properties\": {\n        \"dtype\": \"number\",\n        \"std\": 27155.78366384078,\n        \"min\": 3419012.434820554,\n        \"max\": 3511999.6016605017,\n        \"num_unique_values\": 31866,\n        \"samples\": [\n          3495618.6579454346,\n          3506283.257191236,\n          3511490.763161872\n        ],\n        \"semantic_type\": \"\",\n        \"description\": \"\"\n      }\n    },\n    {\n      \"column\": \"grn\",\n      \"properties\": {\n        \"dtype\": \"number\",\n        \"std\": 27,\n        \"min\": 44,\n        \"max\": 240,\n        \"num_unique_values\": 172,\n        \"samples\": [\n          120,\n          176,\n          193\n        ],\n        \"semantic_type\": \"\",\n        \"description\": \"\"\n      }\n    },\n    {\n      \"column\": \"red\",\n      \"properties\": {\n        \"dtype\": \"number\",\n        \"std\": 34,\n        \"min\": 32,\n        \"max\": 219,\n        \"num_unique_values\": 173,\n        \"samples\": [\n          187,\n          65,\n          134\n        ],\n        \"semantic_type\": \"\",\n        \"description\": \"\"\n      }\n    },\n    {\n      \"column\": \"nir\",\n      \"properties\": {\n        \"dtype\": \"number\",\n        \"std\": 22,\n        \"min\": 28,\n        \"max\": 181,\n        \"num_unique_values\": 153,\n        \"samples\": [\n          91,\n          164,\n          171\n        ],\n        \"semantic_type\": \"\",\n        \"description\": \"\"\n      }\n    },\n    {\n      \"column\": \"swir\",\n      \"properties\": {\n        \"dtype\": \"number\",\n        \"std\": 24,\n        \"min\": 16,\n        \"max\": 151,\n        \"num_unique_values\": 130,\n        \"samples\": [\n          92,\n          83,\n          56\n        ],\n        \"semantic_type\": \"\",\n        \"description\": \"\"\n      }\n    }\n  ]\n}"
            }
          },
          "metadata": {},
          "execution_count": 11
        }
      ]
    },
    {
      "cell_type": "markdown",
      "source": [
        "Here are some notes on the new lines of code you've provided:\n",
        "\n",
        "```python\n",
        "segments =data['segment'].unique()\n",
        "```\n",
        "This line extracts the unique values from the 'segment' column of the `data` DataFrame and stores them in the `segments` variable. The `unique()` function is a pandas function that returns an array of unique values in order of appearance.\n",
        "\n",
        "```python\n",
        "np.random.shuffle(segments)\n",
        "```\n",
        "This line uses the `shuffle` function from numpy's `random` module to randomly shuffle the elements in the `segments` array in-place. This means that the order of elements in the `segments` array will be changed after this line is executed.\n",
        "\n",
        "```python\n",
        "n75 = int(len(segments)*.75)\n",
        "```\n",
        "This line calculates 75% of the length of the `segments` array (which is the number of unique segments), converts it to an integer, and stores the result in the `n75` variable.\n",
        "\n",
        "```python\n",
        "train_segs,test_segs =segments[:n75], segments[n75:]\n",
        "```\n",
        "This line splits the `segments` array into two parts at the index `n75`. The first part, which contains the first 75% of the elements, is stored in the `train_segs` variable. The second part, which contains the remaining elements, is stored in the `test_segs` variable.\n",
        "\n",
        "In summary, this code is preparing a dataset for machine learning by splitting the unique segments into a training set (75% of the data) and a test set (the remaining 25% of the data). The data is shuffled before splitting to ensure that the training and test sets are random and representative."
      ],
      "metadata": {
        "id": "50pGsSzXGNr0"
      }
    },
    {
      "cell_type": "code",
      "source": [
        "segments =data['segment'].unique()\n",
        "np.random.shuffle(segments)\n",
        "\n",
        "n75 = int(len(segments)*.75)\n",
        "train_segs,test_segs =segments[:n75], segments[n75:]\n"
      ],
      "metadata": {
        "id": "dS0didk87IlB"
      },
      "execution_count": null,
      "outputs": []
    },
    {
      "cell_type": "markdown",
      "source": [
        "This line of code will return the lengths of `train_segs` and `test_segs` as a list. The first element in the list will be the number of unique segments in the training set, and the second element will be the number of unique segments in the test set. This is a quick way to verify the size of your training and test sets after splitting.\n",
        "\n"
      ],
      "metadata": {
        "id": "rdSXt2TAGVtP"
      }
    },
    {
      "cell_type": "code",
      "source": [
        "[len(train_segs),len(test_segs)]\n"
      ],
      "metadata": {
        "id": "87CNLAEk8c-D",
        "colab": {
          "base_uri": "https://localhost:8080/"
        },
        "outputId": "ee096de0-e5cb-4223-ba58-0fc47f5a5a18"
      },
      "execution_count": null,
      "outputs": [
        {
          "output_type": "execute_result",
          "data": {
            "text/plain": [
              "[30, 11]"
            ]
          },
          "metadata": {},
          "execution_count": 13
        }
      ]
    },
    {
      "cell_type": "markdown",
      "source": [
        "Here are some notes on the new lines of code you've provided:\n",
        "\n",
        "```python\n",
        "train =data[data['segment'].isin(train_segs)]\n",
        "```\n",
        "This line creates a new DataFrame `train` that only includes the rows from `data` where the 'segment' value is in `train_segs`. The `isin()` function is a method of pandas Series (a DataFrame column is a Series) that checks whether each element in the Series is contained in the passed iterable (in this case, `train_segs`) and returns a Boolean Series of the same length.\n",
        "\n",
        "```python\n",
        "test =data[data['segment'].isin(test_segs)]\n",
        "```\n",
        "This line does the same thing as the previous line, but for `test_segs` instead of `train_segs`. The resulting `test` DataFrame only includes the rows from `data` where the 'segment' value is in `test_segs`.\n",
        "\n",
        "In summary, these two lines of code are splitting the `data` DataFrame into a training set and a test set based on the unique segments. The `train` DataFrame contains 75% of the unique segments, and the `test` DataFrame contains the remaining 25%."
      ],
      "metadata": {
        "id": "0VdFPe0WG5Hv"
      }
    },
    {
      "cell_type": "code",
      "source": [
        "train =data[data['segment'].isin(train_segs)]\n",
        "test =data[data['segment'].isin(test_segs)]"
      ],
      "metadata": {
        "id": "vBFHzBOA-g9Q"
      },
      "execution_count": null,
      "outputs": []
    },
    {
      "cell_type": "markdown",
      "source": [
        "Here are some notes on the new lines of code you've provided:\n",
        "\n",
        "```python\n",
        "variables=['grn','red','nir','swir']\n",
        "```\n",
        "This line creates a list of strings that represent the names of the variables (presumably, these are the names of the columns in your DataFrame that contain the features you want to use for training your model).\n",
        "\n",
        "```python\n",
        "x_t = train[variables].values\n",
        "y_t = train['label'].values\n",
        "```\n",
        "These lines extract the values of the features and the target variable from the training set. `x_t` will be a 2D numpy array containing the values of the features (green, red, near-infrared, and short-wave infrared bands), and `y_t` will be a 1D numpy array containing the values of the target variable ('label').\n",
        "\n",
        "```python\n",
        "x_v = test[variables].values\n",
        "y_v = test['label'].values\n",
        "```\n",
        "These lines do the same thing as the previous two lines, but for the test set.\n",
        "\n",
        "In summary, this code is preparing the feature matrices and target arrays that you will pass to the `fit` and `predict` methods of your machine learning model."
      ],
      "metadata": {
        "id": "8kcqoofPGh_j"
      }
    },
    {
      "cell_type": "code",
      "source": [
        "variables=['grn','red','nir','swir']\n",
        "x_t = train[variables].values\n",
        "y_t = train['label'].values\n",
        "\n",
        "x_v = test[variables].values\n",
        "y_v = test['label'].values"
      ],
      "metadata": {
        "id": "oUCiOzJQ82Q1"
      },
      "execution_count": null,
      "outputs": []
    },
    {
      "cell_type": "markdown",
      "source": [],
      "metadata": {
        "id": "cOY--C91HPQX"
      }
    },
    {
      "cell_type": "code",
      "source": [
        "param_grid = {\n",
        "    'bootstrap':[True],\n",
        "    'max_depth': [8],\n",
        "    'max_features' : [4],\n",
        "    'min_samples_leaf' : [6,7,8],\n",
        "    'min_samples_split' : [7],\n",
        "    'n_estimators': [200,250]\n",
        "}\n",
        "\n",
        "rf = ensemble.RandomForestClassifier()\n",
        "grid_search = model_selection.GridSearchCV(\n",
        "    estimator=rf,\n",
        "    param_grid=param_grid,\n",
        "    cv=3,\n",
        "    n_jobs=-1,\n",
        "    verbose=2\n",
        ")\n",
        "\n",
        "grid_search.fit(x_t,y_t)\n",
        "params = grid_search.best_params_\n",
        "print(params)"
      ],
      "metadata": {
        "id": "sBUMrbW6AH2n",
        "colab": {
          "base_uri": "https://localhost:8080/"
        },
        "outputId": "e7c73422-917d-412e-a96c-5946446149d0"
      },
      "execution_count": null,
      "outputs": [
        {
          "output_type": "stream",
          "name": "stdout",
          "text": [
            "Fitting 3 folds for each of 6 candidates, totalling 18 fits\n",
            "{'bootstrap': True, 'max_depth': 8, 'max_features': 4, 'min_samples_leaf': 6, 'min_samples_split': 7, 'n_estimators': 250}\n"
          ]
        }
      ]
    },
    {
      "cell_type": "code",
      "source": [
        "rforest = ensemble.RandomForestClassifier(\n",
        "    bootstrap=params['bootstrap'],\n",
        "    max_depth=params['max_depth'],\n",
        "    max_features=params['max_features'],\n",
        "    min_samples_leaf=params['min_samples_leaf'],\n",
        "    min_samples_split=params['min_samples_split'],\n",
        "    n_estimators=params['n_estimators'],\n",
        "    random_state=42\n",
        ")\n",
        "rforest.fit(x_t, y_t);"
      ],
      "metadata": {
        "id": "26FTiwQbdIzW"
      },
      "execution_count": null,
      "outputs": []
    },
    {
      "cell_type": "code",
      "source": [
        "rpred = rforest.predict(x_v)"
      ],
      "metadata": {
        "id": "Umqdd7_BeFpk"
      },
      "execution_count": null,
      "outputs": []
    },
    {
      "cell_type": "code",
      "source": [
        "all_classes= data['label'].unique()\n",
        "cm = normalize(confusion_matrix(\n",
        "    y_v, rpred,\n",
        "    labels = all_classes\n",
        "))\n",
        "cm"
      ],
      "metadata": {
        "id": "OtCrmMuWekKa",
        "colab": {
          "base_uri": "https://localhost:8080/"
        },
        "outputId": "1a674243-ed60-4499-efd5-40107e0749bd"
      },
      "execution_count": null,
      "outputs": [
        {
          "output_type": "execute_result",
          "data": {
            "text/plain": [
              "array([[0.99820419, 0.02605427, 0.05394048],\n",
              "       [0.51160371, 0.81503087, 0.27200428],\n",
              "       [0.14662668, 0.02620863, 0.98884464]])"
            ]
          },
          "metadata": {},
          "execution_count": 19
        }
      ]
    },
    {
      "cell_type": "code",
      "source": [
        "fig, ax = plt.subplots()\n",
        "ax.imshow(cm, interpolation='nearest', cmap=plt.cm.Blues)\n",
        "\n",
        "# We want to show all ticks...\n",
        "ax.set_xticks(np.arange(len(all_classes)))\n",
        "ax.set_yticks(np.arange(len(all_classes)))\n",
        "# ... and label them with the respective list entries\n",
        "ax.set_xticklabels(all_classes)\n",
        "ax.set_yticklabels(all_classes)\n",
        "\n",
        "# Rotate the tick labels and set their alignment.\n",
        "plt.setp(ax.get_xticklabels(), rotation=45, ha=\"right\",\n",
        "         rotation_mode=\"anchor\")\n",
        "\n",
        "# Loop over data dimensions and create text annotations\n",
        "thresh = cm.max() / 2.\n",
        "for i in range(len(all_classes)):\n",
        "    for j in range(len(all_classes)):\n",
        "        text = ax.text(j, i, '{0:.2f}'.format(cm[i, j]),\n",
        "                       ha=\"center\", va=\"center\",\n",
        "                       color=\"w\" if (cm[i, j] > thresh)or(cm[i, j]==0.) else \"k\")\n",
        "\n",
        "ax.set_ylabel('Labelled')\n",
        "ax.set_xlabel('Predicted')\n",
        "ax.set_ylim(len(all_classes)-0.5, -0.5) # Bug fix!\n",
        "fig.tight_layout()"
      ],
      "metadata": {
        "id": "Pg08RWoFfSTM",
        "colab": {
          "base_uri": "https://localhost:8080/",
          "height": 487
        },
        "outputId": "6e8699db-47c0-4355-a25a-46e6d0cc24f0"
      },
      "execution_count": null,
      "outputs": [
        {
          "output_type": "display_data",
          "data": {
            "text/plain": [
              "<Figure size 640x480 with 1 Axes>"
            ],
            "image/png": "[encoded data removed]"
          },
          "metadata": {}
        }
      ]
    },
    {
      "cell_type": "code",
      "source": [
        "class_ii = cm.diagonal()\n",
        "user = np.zeros(class_ii.shape)\n",
        "user[class_ii!=0] = class_ii[class_ii!=0]/cm[:, class_ii!=0].sum(axis=0)\n",
        "prod = np.zeros(class_ii.shape)\n",
        "prod[class_ii!=0] = class_ii[class_ii!=0]/cm[class_ii!=0, :].sum(axis=1)\n",
        "\n",
        "print(pd.DataFrame(\n",
        "    data={'class':all_classes.tolist(),\n",
        "          'User': user,\n",
        "          'Prod': prod\n",
        "         }))\n",
        "print('Overall = {}'.format(class_ii.sum()/cm.sum()))"
      ],
      "metadata": {
        "id": "WMY8rkVVgLJl",
        "colab": {
          "base_uri": "https://localhost:8080/"
        },
        "outputId": "6320b2e1-8c17-4dbf-de6e-f348697f8fd2"
      },
      "execution_count": null,
      "outputs": [
        {
          "output_type": "stream",
          "name": "stdout",
          "text": [
            "   class      User      Prod\n",
            "0  other  0.602622  0.925807\n",
            "1  wheat  0.939740  0.509828\n",
            "2  poppy  0.752094  0.851220\n",
            "Overall = 0.7299900332995528\n"
          ]
        }
      ]
    },
    {
      "cell_type": "code",
      "source": [
        "importances = rforest.feature_importances_\n",
        "#importances.sum()\n",
        "importances"
      ],
      "metadata": {
        "id": "iBRgteV5hovF",
        "colab": {
          "base_uri": "https://localhost:8080/"
        },
        "outputId": "b2351969-eb0c-4113-91c5-a51085af7246"
      },
      "execution_count": null,
      "outputs": [
        {
          "output_type": "execute_result",
          "data": {
            "text/plain": [
              "array([0.1947006 , 0.60157662, 0.13413719, 0.06958558])"
            ]
          },
          "metadata": {},
          "execution_count": 21
        }
      ]
    },
    {
      "cell_type": "code",
      "source": [
        "indices = np.argsort(importances)[::-1]\n",
        "x_features = range(x_t.shape[1])\n",
        "fig, ax = plt.subplots()\n",
        "ax.bar(x_features, importances[indices], align=\"center\")\n",
        "plt.xticks(x_features, indices)\n",
        "ax.set_xlim([-1, x_t.shape[1]]);"
      ],
      "metadata": {
        "id": "XNRz_IH0irAD",
        "colab": {
          "base_uri": "https://localhost:8080/",
          "height": 430
        },
        "outputId": "2c49eb25-b4f1-4432-edf9-db0bcb04159e"
      },
      "execution_count": null,
      "outputs": [
        {
          "output_type": "display_data",
          "data": {
            "text/plain": [
              "<Figure size 640x480 with 1 Axes>"
            ],
            "image/png": "[encoded data removed]"
          },
          "metadata": {}
        }
      ]
    },
    {
      "cell_type": "code",
      "source": [
        "image=gdal.Open('/content/drive/MyDrive/data/spot5_k178_sub_02apr07.img')"
      ],
      "metadata": {
        "id": "5J6enWf8jtao"
      },
      "execution_count": null,
      "outputs": []
    },
    {
      "cell_type": "code",
      "source": [
        "subset = image.ReadAsArray(3500,6000,1000,1000)\n",
        "subset.shape"
      ],
      "metadata": {
        "id": "KCDrEg8Nju_Y",
        "colab": {
          "base_uri": "https://localhost:8080/"
        },
        "outputId": "c6537466-076f-4bbc-839d-5dbf2b4dc5e3"
      },
      "execution_count": null,
      "outputs": [
        {
          "output_type": "execute_result",
          "data": {
            "text/plain": [
              "(4, 1000, 1000)"
            ]
          },
          "metadata": {},
          "execution_count": 24
        }
      ]
    },
    {
      "cell_type": "code",
      "source": [
        "nb,nr,nc = subset.shape\n",
        "row_value = subset.transpose(1,2,0).reshape(nr*nc,nb)\n",
        "row_value.shape"
      ],
      "metadata": {
        "id": "CWnLTqlYj6Ce",
        "colab": {
          "base_uri": "https://localhost:8080/"
        },
        "outputId": "0ce0fc9a-18b3-486a-fea4-0701a680380d"
      },
      "execution_count": null,
      "outputs": [
        {
          "output_type": "execute_result",
          "data": {
            "text/plain": [
              "(1000000, 4)"
            ]
          },
          "metadata": {},
          "execution_count": 25
        }
      ]
    },
    {
      "cell_type": "code",
      "source": [
        "pred_all = rforest.predict(row_value)"
      ],
      "metadata": {
        "id": "iRaEdeD8kjVy"
      },
      "execution_count": null,
      "outputs": []
    },
    {
      "cell_type": "code",
      "source": [
        "classified = pred_all.reshape(nr, nc)\n",
        "remap = {\n",
        "    'poppy': 2,\n",
        "    'wheat': 4,\n",
        "    'other': 3,\n",
        "\n",
        "}\n",
        "thematic = np.zeros(classified.shape)\n",
        "for key in remap.keys():\n",
        "  thematic[classified==key] = remap[key]"
      ],
      "metadata": {
        "id": "3wlm3u9rk1Kz"
      },
      "execution_count": null,
      "outputs": []
    },
    {
      "cell_type": "code",
      "source": [
        "fig, ax = plt.subplots(figsize =(8,8))\n",
        "ax.imshow(thematic, interpolation = 'none')\n",
        "ax.axis('off')"
      ],
      "metadata": {
        "id": "6WdIOWblmW6M",
        "colab": {
          "base_uri": "https://localhost:8080/",
          "height": 670
        },
        "outputId": "64317970-74cc-4149-af75-8379deacd3c8"
      },
      "execution_count": null,
      "outputs": [
        {
          "output_type": "execute_result",
          "data": {
            "text/plain": [
              "(-0.5, 999.5, 999.5, -0.5)"
            ]
          },
          "metadata": {},
          "execution_count": 28
        },
        {
          "output_type": "display_data",
          "data": {
            "text/plain": [
              "<Figure size 800x800 with 1 Axes>"
            ],
            "image/png": "[encoded data removed]"
          },
          "metadata": {}
        }
      ]
    }
  ]
}